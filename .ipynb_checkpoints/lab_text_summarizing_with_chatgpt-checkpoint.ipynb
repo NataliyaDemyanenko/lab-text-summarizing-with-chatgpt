{
  "cells": [
    {
      "cell_type": "markdown",
      "metadata": {
        "id": "2-bZe2gatBHd"
      },
      "source": [
        "# Text summarizing with ChaptGPT\n",
        "In this lesson, you will summarize text with a focus on specific topics.\n",
        "\n",
        "## Setup"
      ]
    },
    {
      "cell_type": "code",
      "source": [
        "!pip install openai python-dotenv"
      ],
      "metadata": {
        "colab": {
          "base_uri": "https://localhost:8080/"
        },
        "id": "WqrHsEwjtPD_",
        "outputId": "8d407906-7ace-4e63-d3df-00b9f28eaecb"
      },
      "execution_count": 1,
      "outputs": [
        {
          "output_type": "stream",
          "name": "stdout",
          "text": [
            "Collecting openai\n",
            "  Downloading openai-1.34.0-py3-none-any.whl (325 kB)\n",
            "\u001b[2K     \u001b[90m━━━━━━━━━━━━━━━━━━━━━━━━━━━━━━━━━━━━━━━━\u001b[0m \u001b[32m325.5/325.5 kB\u001b[0m \u001b[31m2.8 MB/s\u001b[0m eta \u001b[36m0:00:00\u001b[0m\n",
            "\u001b[?25hCollecting python-dotenv\n",
            "  Downloading python_dotenv-1.0.1-py3-none-any.whl (19 kB)\n",
            "Requirement already satisfied: anyio<5,>=3.5.0 in /usr/local/lib/python3.10/dist-packages (from openai) (3.7.1)\n",
            "Requirement already satisfied: distro<2,>=1.7.0 in /usr/lib/python3/dist-packages (from openai) (1.7.0)\n",
            "Collecting httpx<1,>=0.23.0 (from openai)\n",
            "  Downloading httpx-0.27.0-py3-none-any.whl (75 kB)\n",
            "\u001b[2K     \u001b[90m━━━━━━━━━━━━━━━━━━━━━━━━━━━━━━━━━━━━━━━━\u001b[0m \u001b[32m75.6/75.6 kB\u001b[0m \u001b[31m5.0 MB/s\u001b[0m eta \u001b[36m0:00:00\u001b[0m\n",
            "\u001b[?25hRequirement already satisfied: pydantic<3,>=1.9.0 in /usr/local/lib/python3.10/dist-packages (from openai) (2.7.3)\n",
            "Requirement already satisfied: sniffio in /usr/local/lib/python3.10/dist-packages (from openai) (1.3.1)\n",
            "Requirement already satisfied: tqdm>4 in /usr/local/lib/python3.10/dist-packages (from openai) (4.66.4)\n",
            "Requirement already satisfied: typing-extensions<5,>=4.7 in /usr/local/lib/python3.10/dist-packages (from openai) (4.12.2)\n",
            "Requirement already satisfied: idna>=2.8 in /usr/local/lib/python3.10/dist-packages (from anyio<5,>=3.5.0->openai) (3.7)\n",
            "Requirement already satisfied: exceptiongroup in /usr/local/lib/python3.10/dist-packages (from anyio<5,>=3.5.0->openai) (1.2.1)\n",
            "Requirement already satisfied: certifi in /usr/local/lib/python3.10/dist-packages (from httpx<1,>=0.23.0->openai) (2024.6.2)\n",
            "Collecting httpcore==1.* (from httpx<1,>=0.23.0->openai)\n",
            "  Downloading httpcore-1.0.5-py3-none-any.whl (77 kB)\n",
            "\u001b[2K     \u001b[90m━━━━━━━━━━━━━━━━━━━━━━━━━━━━━━━━━━━━━━━━\u001b[0m \u001b[32m77.9/77.9 kB\u001b[0m \u001b[31m4.6 MB/s\u001b[0m eta \u001b[36m0:00:00\u001b[0m\n",
            "\u001b[?25hCollecting h11<0.15,>=0.13 (from httpcore==1.*->httpx<1,>=0.23.0->openai)\n",
            "  Downloading h11-0.14.0-py3-none-any.whl (58 kB)\n",
            "\u001b[2K     \u001b[90m━━━━━━━━━━━━━━━━━━━━━━━━━━━━━━━━━━━━━━━━\u001b[0m \u001b[32m58.3/58.3 kB\u001b[0m \u001b[31m5.2 MB/s\u001b[0m eta \u001b[36m0:00:00\u001b[0m\n",
            "\u001b[?25hRequirement already satisfied: annotated-types>=0.4.0 in /usr/local/lib/python3.10/dist-packages (from pydantic<3,>=1.9.0->openai) (0.7.0)\n",
            "Requirement already satisfied: pydantic-core==2.18.4 in /usr/local/lib/python3.10/dist-packages (from pydantic<3,>=1.9.0->openai) (2.18.4)\n",
            "Installing collected packages: python-dotenv, h11, httpcore, httpx, openai\n",
            "Successfully installed h11-0.14.0 httpcore-1.0.5 httpx-0.27.0 openai-1.34.0 python-dotenv-1.0.1\n"
          ]
        }
      ]
    },
    {
      "cell_type": "code",
      "source": [
        "from openai import OpenAI\n",
        "import os\n",
        "from dotenv import load_dotenv, find_dotenv\n",
        "_ = load_dotenv(find_dotenv())"
      ],
      "metadata": {
        "id": "9Y3vzNjMtWiN"
      },
      "execution_count": 7,
      "outputs": []
    },
    {
      "cell_type": "code",
      "source": [
        "from google.colab import userdata\n",
        "\n",
        "OPENAI_API_KEY = userdata.get('IronAPI')"
      ],
      "metadata": {
        "id": "Avt-jKlttXU8"
      },
      "execution_count": 3,
      "outputs": []
    },
    {
      "cell_type": "code",
      "execution_count": 8,
      "metadata": {
        "tags": [],
        "id": "1dj0d-L4tBHf"
      },
      "outputs": [],
      "source": [
        "client = OpenAI(\n",
        "    # This is the default and can be omitted\n",
        "    api_key=OPENAI_API_KEY,\n",
        ")\n",
        "\n",
        "\n",
        "def get_completion(prompt, model=\"gpt-3.5-turbo\"): # Andrew mentioned that the prompt/ completion paradigm is preferable for this class\n",
        "    messages = [{\"role\": \"user\", \"content\": prompt}]\n",
        "    response = client.chat.completions.create(\n",
        "        model=model,\n",
        "        messages=messages,\n",
        "        temperature=0, # this is the degree of randomness of the model's output\n",
        "    )\n",
        "    return response.choices[0].message.content\n"
      ]
    },
    {
      "cell_type": "markdown",
      "metadata": {
        "id": "M09dAQGrtBHf"
      },
      "source": [
        "## Text to summarize"
      ]
    },
    {
      "cell_type": "code",
      "execution_count": 9,
      "metadata": {
        "tags": [],
        "id": "VR9KIRCxtBHf"
      },
      "outputs": [],
      "source": [
        "prod_review = \"\"\"\n",
        "Got this panda plush toy for my daughter's birthday, \\\n",
        "who loves it and takes it everywhere. It's soft and \\\n",
        "super cute, and its face has a friendly look. It's \\\n",
        "a bit small for what I paid though. I think there \\\n",
        "might be other options that are bigger for the \\\n",
        "same price. It arrived a day earlier than expected, \\\n",
        "so I got to play with it myself before I gave it \\\n",
        "to her.\n",
        "\"\"\""
      ]
    },
    {
      "cell_type": "markdown",
      "metadata": {
        "id": "Q_SGut1RtBHf"
      },
      "source": [
        "## Summarize with a word/sentence/character limit"
      ]
    },
    {
      "cell_type": "code",
      "execution_count": 10,
      "metadata": {
        "tags": [],
        "colab": {
          "base_uri": "https://localhost:8080/"
        },
        "id": "3WQxRXQ3tBHf",
        "outputId": "dcfa6b4a-9cfb-4ff7-bbe0-68d3c65bd5ad"
      },
      "outputs": [
        {
          "output_type": "stream",
          "name": "stdout",
          "text": [
            "Soft, cute panda plush toy loved by daughter, but smaller than expected for the price. Arrived early, friendly face.\n"
          ]
        }
      ],
      "source": [
        "prompt = f\"\"\"\n",
        "Your task is to generate a short summary of a product \\\n",
        "review from an ecommerce site.\n",
        "\n",
        "Summarize the review below, delimited by triple\n",
        "backticks, in at most 30 words.\n",
        "\n",
        "Review: ```{prod_review}```\n",
        "\"\"\"\n",
        "\n",
        "response = get_completion(prompt)\n",
        "print(response)\n"
      ]
    },
    {
      "cell_type": "markdown",
      "metadata": {
        "id": "j-BtCzhVtBHg"
      },
      "source": [
        "## Summarize with a focus on shipping and delivery"
      ]
    },
    {
      "cell_type": "code",
      "execution_count": 11,
      "metadata": {
        "tags": [],
        "colab": {
          "base_uri": "https://localhost:8080/"
        },
        "id": "c0pJX4uNtBHg",
        "outputId": "edcce2f2-fba7-4d3b-dbf4-1f36888ab51b"
      },
      "outputs": [
        {
          "output_type": "stream",
          "name": "stdout",
          "text": [
            "The customer received the panda plush toy a day earlier than expected, allowing them to enjoy it before gifting it.\n"
          ]
        }
      ],
      "source": [
        "prompt = f\"\"\"\n",
        "Your task is to generate a short summary of a product \\\n",
        "review from an ecommerce site to give feedback to the \\\n",
        "Shipping deparmtment.\n",
        "\n",
        "Summarize the review below, delimited by triple\n",
        "backticks, in at most 30 words, and focusing on any aspects \\\n",
        "that mention shipping and delivery of the product.\n",
        "\n",
        "Review: ```{prod_review}```\n",
        "\"\"\"\n",
        "\n",
        "response = get_completion(prompt)\n",
        "print(response)\n"
      ]
    },
    {
      "cell_type": "markdown",
      "metadata": {
        "id": "qSVplk3LtBHg"
      },
      "source": [
        "## Summarize with a focus on price and value"
      ]
    },
    {
      "cell_type": "code",
      "execution_count": 12,
      "metadata": {
        "tags": [],
        "colab": {
          "base_uri": "https://localhost:8080/"
        },
        "id": "y0ysRMbVtBHg",
        "outputId": "8fc96ac2-bb63-4e58-eea7-f9ac8b0c1460"
      },
      "outputs": [
        {
          "output_type": "stream",
          "name": "stdout",
          "text": [
            "Summary: \n",
            "Customers find the panda plush toy cute and soft, but feel it's slightly overpriced for its size. Consider offering larger options for the same price.\n"
          ]
        }
      ],
      "source": [
        "prompt = f\"\"\"\n",
        "Your task is to generate a short summary of a product \\\n",
        "review from an ecommerce site to give feedback to the \\\n",
        "pricing deparmtment, responsible for determining the \\\n",
        "price of the product.\n",
        "\n",
        "Summarize the review below, delimited by triple\n",
        "backticks, in at most 30 words, and focusing on any aspects \\\n",
        "that are relevant to the price and perceived value.\n",
        "\n",
        "Review: ```{prod_review}```\n",
        "\"\"\"\n",
        "\n",
        "response = get_completion(prompt)\n",
        "print(response)\n"
      ]
    },
    {
      "cell_type": "markdown",
      "metadata": {
        "id": "zMSpq6QGtBHg"
      },
      "source": [
        "#### Comment\n",
        "- Summaries include topics that are not related to the topic of focus."
      ]
    },
    {
      "cell_type": "markdown",
      "metadata": {
        "id": "qsvbKGBPtBHg"
      },
      "source": [
        "## Try \"extract\" instead of \"summarize\""
      ]
    },
    {
      "cell_type": "code",
      "execution_count": 13,
      "metadata": {
        "tags": [],
        "colab": {
          "base_uri": "https://localhost:8080/"
        },
        "id": "BpvuX9DdtBHg",
        "outputId": "0e5b5be6-e286-416f-eb9e-f2e3b41db5b7"
      },
      "outputs": [
        {
          "output_type": "stream",
          "name": "stdout",
          "text": [
            "Feedback: The product arrived a day earlier than expected, allowing the customer to play with it before giving it as a gift.\n"
          ]
        }
      ],
      "source": [
        "prompt = f\"\"\"\n",
        "Your task is to extract relevant information from \\\n",
        "a product review from an ecommerce site to give \\\n",
        "feedback to the Shipping department.\n",
        "\n",
        "From the review below, delimited by triple quotes \\\n",
        "extract the information relevant to shipping and \\\n",
        "delivery. Limit to 30 words.\n",
        "\n",
        "Review: ```{prod_review}```\n",
        "\"\"\"\n",
        "\n",
        "response = get_completion(prompt)\n",
        "print(response)"
      ]
    },
    {
      "cell_type": "markdown",
      "metadata": {
        "id": "ZTjDZRfTtBHh"
      },
      "source": [
        "## Summarize multiple product reviews"
      ]
    },
    {
      "cell_type": "code",
      "execution_count": 14,
      "metadata": {
        "tags": [],
        "id": "cAJy-TwQtBHh"
      },
      "outputs": [],
      "source": [
        "\n",
        "review_1 = prod_review\n",
        "\n",
        "# review for a standing lamp\n",
        "review_2 = \"\"\"\n",
        "Needed a nice lamp for my bedroom, and this one \\\n",
        "had additional storage and not too high of a price \\\n",
        "point. Got it fast - arrived in 2 days. The string \\\n",
        "to the lamp broke during the transit and the company \\\n",
        "happily sent over a new one. Came within a few days \\\n",
        "as well. It was easy to put together. Then I had a \\\n",
        "missing part, so I contacted their support and they \\\n",
        "very quickly got me the missing piece! Seems to me \\\n",
        "to be a great company that cares about their customers \\\n",
        "and products.\n",
        "\"\"\"\n",
        "\n",
        "# review for an electric toothbrush\n",
        "review_3 = \"\"\"\n",
        "My dental hygienist recommended an electric toothbrush, \\\n",
        "which is why I got this. The battery life seems to be \\\n",
        "pretty impressive so far. After initial charging and \\\n",
        "leaving the charger plugged in for the first week to \\\n",
        "condition the battery, I've unplugged the charger and \\\n",
        "been using it for twice daily brushing for the last \\\n",
        "3 weeks all on the same charge. But the toothbrush head \\\n",
        "is too small. I’ve seen baby toothbrushes bigger than \\\n",
        "this one. I wish the head was bigger with different \\\n",
        "length bristles to get between teeth better because \\\n",
        "this one doesn’t.  Overall if you can get this one \\\n",
        "around the $50 mark, it's a good deal. The manufactuer's \\\n",
        "replacements heads are pretty expensive, but you can \\\n",
        "get generic ones that're more reasonably priced. This \\\n",
        "toothbrush makes me feel like I've been to the dentist \\\n",
        "every day. My teeth feel sparkly clean!\n",
        "\"\"\"\n",
        "\n",
        "# review for a blender\n",
        "review_4 = \"\"\"\n",
        "So, they still had the 17 piece system on seasonal \\\n",
        "sale for around $49 in the month of November, about \\\n",
        "half off, but for some reason (call it price gouging) \\\n",
        "around the second week of December the prices all went \\\n",
        "up to about anywhere from between $70-$89 for the same \\\n",
        "system. And the 11 piece system went up around $10 or \\\n",
        "so in price also from the earlier sale price of $29. \\\n",
        "So it looks okay, but if you look at the base, the part \\\n",
        "where the blade locks into place doesn’t look as good \\\n",
        "as in previous editions from a few years ago, but I \\\n",
        "plan to be very gentle with it (example, I crush \\\n",
        "very hard items like beans, ice, rice, etc. in the \\\n",
        "blender first then pulverize them in the serving size \\\n",
        "I want in the blender then switch to the whipping \\\n",
        "blade for a finer flour, and use the cross cutting blade \\\n",
        "first when making smoothies, then use the flat blade \\\n",
        "if I need them finer/less pulpy). Special tip when making \\\n",
        "smoothies, finely cut and freeze the fruits and \\\n",
        "vegetables (if using spinach-lightly stew soften the \\\n",
        "spinach then freeze until ready for use-and if making \\\n",
        "sorbet, use a small to medium sized food processor) \\\n",
        "that you plan to use that way you can avoid adding so \\\n",
        "much ice if at all-when making your smoothie. \\\n",
        "After about a year, the motor was making a funny noise. \\\n",
        "I called customer service but the warranty expired \\\n",
        "already, so I had to buy another one. FYI: The overall \\\n",
        "quality has gone done in these types of products, so \\\n",
        "they are kind of counting on brand recognition and \\\n",
        "consumer loyalty to maintain sales. Got it in about \\\n",
        "two days.\n",
        "\"\"\"\n",
        "\n",
        "reviews = [review_1, review_2, review_3, review_4]"
      ]
    },
    {
      "cell_type": "code",
      "execution_count": 15,
      "metadata": {
        "tags": [],
        "colab": {
          "base_uri": "https://localhost:8080/"
        },
        "id": "04TUl7E4tBHh",
        "outputId": "66eaf8cf-df62-423e-be23-0b707d1ac6dc"
      },
      "outputs": [
        {
          "output_type": "stream",
          "name": "stdout",
          "text": [
            "0 Summary: \n",
            "Adorable panda plush loved by daughter, soft and cute, but smaller than expected for the price. Arrived early. \n",
            "\n",
            "1 Summary: \n",
            "Versatile lamp with storage, fast delivery, excellent customer service for missing parts. Great value for price. \n",
            "\n",
            "2 Impressive battery life, small head, good deal for $50, expensive replacement heads, leaves teeth feeling clean. \n",
            "\n",
            "3 Review: Price fluctuations, quality concerns, motor issues after a year, but useful tips for smoothie making. Brand loyalty. \n",
            "\n"
          ]
        }
      ],
      "source": [
        "for i in range(len(reviews)):\n",
        "    prompt = f\"\"\"\n",
        "    Your task is to generate a short summary of a product \\\n",
        "    review from an ecommerce site.\n",
        "\n",
        "    Summarize the review below, delimited by triple \\\n",
        "    backticks in at most 20 words.\n",
        "\n",
        "    Review: ```{reviews[i]}```\n",
        "    \"\"\"\n",
        "\n",
        "    response = get_completion(prompt)\n",
        "    print(i, response, \"\\n\")"
      ]
    },
    {
      "cell_type": "markdown",
      "metadata": {
        "id": "H_gWYFVTtBHh"
      },
      "source": [
        "# Exercise\n",
        " - Complete the prompts similar to what we did in class.\n",
        "     - Try at least 3 versions\n",
        "     - Be creative\n",
        " - Write a one page report summarizing your findings.\n",
        "     - Were there variations that didn't work well? i.e., where GPT either hallucinated or wrong\n",
        " - What did you learn?"
      ]
    },
    {
      "cell_type": "code",
      "source": [
        "# review for an electric toothbrush\n",
        "review_5 = \"\"\"\n",
        "Die Zahnbürste ist wirklich toll - \\\n",
        "von der Funktionalität und vom Aussehen her!!!!!\\\n",
        "Die Bürste hat 3 Stufen, sensitiv, extra Power für weißere Zähne\\\n",
        "und die reguläre Stufe (welche auch noch verstellbar ist).\\\n",
        "Reinigung der Zähne TOP!!\\\n",
        "Faszinierend ist die Haltbarkeit des Akkus.\\\n",
        "Habe die Bürste nun seit einigen Monaten und erst einmal aufgeladen.\\\n",
        "Für unterwegs somit PERFEKT, man braucht kein Ladekabel mitnehmen. \\\n",
        "\"\"\"\n",
        "\n",
        "# review for an electric toothbrush\n",
        "review_6 = \"\"\"\n",
        "лучшая щетка в моей жизни! вчера получила заказ и чистила зубы,\\\n",
        "реально не хотелось заканчивать чистку))) \\\n",
        "она волшебная, упругие щетинки отлично чистят зубы,\\\n",
        " а материал не травмирует десну, отличное изобретение, спасибо !!!рекомендую всем! \\\n",
        "\"\"\"\n",
        "\n",
        "\n",
        "\n",
        "reviews = [review_5, review_6]"
      ],
      "metadata": {
        "id": "5EtC6jUkvaIn"
      },
      "execution_count": 17,
      "outputs": []
    },
    {
      "cell_type": "code",
      "execution_count": 24,
      "metadata": {
        "colab": {
          "base_uri": "https://localhost:8080/"
        },
        "id": "uBNNXYwntBHh",
        "outputId": "25b2665c-42e6-481d-8dff-fab54d783152"
      },
      "outputs": [
        {
          "output_type": "stream",
          "name": "stdout",
          "text": [
            "0 Summary: \n",
            "The toothbrush is excellent in functionality, appearance, and battery life. With multiple settings and long-lasting battery, it offers great value for its price. \n",
            "\n",
            "1 Summary: Best toothbrush ever! Magic bristles clean teeth well without hurting gums. Great invention, worth the price. Highly recommend to everyone. \n",
            "\n"
          ]
        }
      ],
      "source": [
        "for i in range(len(reviews)):\n",
        "  prompt = f\"\"\"\n",
        "Your task is to translate the reviews int English\\\n",
        "and generate a short summary of a product \\\n",
        "review from an ecommerce site to give feedback to the \\\n",
        "pricing deparmtment, responsible for determining the \\\n",
        "price of the product.\n",
        "\n",
        "Summarize the review below, delimited by triple\n",
        "backticks, in at most 30 words, and focusing on any aspects \\\n",
        "that are relevant to the price and perceived value.\n",
        "\n",
        "  Review: ```{reviews[i]}```\n",
        "  \"\"\"\n",
        "\n",
        "  response = get_completion(prompt)\n",
        "  print(i, response, \"\\n\")"
      ]
    },
    {
      "cell_type": "code",
      "source": [
        "# negative review\n",
        "review_7 = \"\"\"\n",
        "Pathetic home delivery service with huge delays\\\n",
        "and unannounced order cancellations. Customers beware!\\\n",
        "I recently had an aweful experience with What'a Paratha when an order\\\n",
        "placed at 8:12pm was still on the way at 10pm and all concerned were blatantly\\\n",
        "lying about the whereabouts of rider that he is just around the corner.\\\n",
        "And when I refused to receive the order at 10:15pm (as we had dinner already),\\\n",
        "the manager called to ask me sir what's the problem!\\\n",
        "\"\"\"\n",
        "\n",
        "# negative review\n",
        "review_8 = \"\"\"\n",
        "Interesting menu , bad chai\\\n",
        "Ordered there nutella paratha and chai ... \\\n",
        "they gave us the options for chai and I ordered\\\n",
        "there karak chai and masala chai ... the paratha was\\\n",
        "full of sugar pieces and was not as bad ... the only\\\n",
        "thing off putting was chai ... the chai was basic chai\\\n",
        "with no masala in masala chai and no karak chai flavour .. . \\\n",
        "Overall paratha was okay ... and i dont recommend there chai ...\\\n",
        "\"\"\"\n",
        "\n",
        "review_9 = \"\"\"\n",
        "too expensive no value for money\\\n",
        "I have been here several times before. \\\n",
        "The food was all right but seriously lacked presentation.\\\n",
        "The ambiance gives off an earthy feel-good vibe.\\\n",
        "I felt the prices were too high given the quality of the food.\\\n",
        "I was not very pleased to find out that the coffee wasn't organic.\\\n",
        " I would probably come back more often if the service was better.\\\n",
        "\"\"\"\n",
        "\n",
        "\n",
        "reviews = [review_7, review_8, review_9]"
      ],
      "metadata": {
        "id": "st8chPNfxiWg"
      },
      "execution_count": 26,
      "outputs": []
    },
    {
      "cell_type": "code",
      "source": [
        "for i in range(len(reviews)):\n",
        "  prompt = f\"\"\"\n",
        "Your task is to generate a short summary of a service \\\n",
        "review from an ecommerce site to give feedback to the \\\n",
        "business manager, and propose concrete steps for improvement.  \\\n",
        "\n",
        "Summarize the review below, delimited by triple\n",
        "backticks, focusing on any customer concerns.\\\n",
        "Specify a three-step improvement plan for each case.\n",
        "\n",
        "  Review: ```{reviews[i]}```\n",
        "  \"\"\"\n",
        "\n",
        "  response = get_completion(prompt)\n",
        "  print(i, response, \"\\n\")"
      ],
      "metadata": {
        "colab": {
          "base_uri": "https://localhost:8080/"
        },
        "id": "saV606NozMNI",
        "outputId": "9401fc04-95c0-4fca-ef7f-0def60837ca2"
      },
      "execution_count": 28,
      "outputs": [
        {
          "output_type": "stream",
          "name": "stdout",
          "text": [
            "0 Summary: The customer had a negative experience with What'a Paratha's home delivery service due to huge delays, unannounced order cancellations, and dishonesty from the staff. \n",
            "\n",
            "Improvement Plan:\n",
            "1. Improve Communication: Ensure that customers are informed promptly about any delays or cancellations in their orders. Implement a system to provide real-time updates on the status of deliveries.\n",
            "2. Enhance Training: Train staff members, including managers, on the importance of honesty and transparency with customers. Encourage open communication and provide guidelines on how to handle customer complaints effectively.\n",
            "3. Compensation Policy: Develop a clear compensation policy for customers who experience significant delays or cancellations. Offer discounts or vouchers as a gesture of goodwill to retain customer loyalty. \n",
            "\n",
            "1 Summary: \n",
            "The customer found the menu interesting but was disappointed with the chai they ordered. The nutella paratha was okay, but the chai lacked the promised flavors and was basic.\n",
            "\n",
            "Improvement Plan:\n",
            "1. Improve chai quality: Ensure that the chai options offered match the descriptions and are made with the correct ingredients.\n",
            "2. Enhance flavor profiles: Train staff to prepare chai with the right amount of masala and karak chai flavor to meet customer expectations.\n",
            "3. Quality control: Implement a system to monitor and taste-test chai regularly to maintain consistency in taste and quality. \n",
            "\n",
            "2 Summary: \n",
            "The customer found the prices too high for the quality of food, lacking presentation. They were disappointed that the coffee wasn't organic and felt the service could be improved.\n",
            "\n",
            "Improvement Plan:\n",
            "1. Price Adjustment: Consider reevaluating the pricing strategy to ensure customers feel they are getting value for money.\n",
            "2. Food Presentation: Focus on improving the presentation of dishes to enhance the overall dining experience.\n",
            "3. Service Training: Provide additional training to staff to improve customer service and create a more welcoming atmosphere for guests. \n",
            "\n"
          ]
        }
      ]
    },
    {
      "cell_type": "code",
      "source": [
        "for i in range(len(reviews)):\n",
        "  prompt = f\"\"\"\n",
        "Your task is to generate a short summary of a service \\\n",
        "review from an ecommerce site to give feedback to the \\\n",
        "business manager, propose concrete steps for improvement, and generate  \\\n",
        "an answer acknowledging the issue and proposing a resolution\\\n",
        "\n",
        "Summarize the review below, delimited by triple\n",
        "backticks, and compose an online answer addressing the customer,\\\n",
        "acknowledging the problem,\\\n",
        "and offereing a resolution. The answer should include 40 words at most\n",
        "\n",
        "  Review: ```{reviews[i]}```\n",
        "  \"\"\"\n",
        "\n",
        "  response = get_completion(prompt)\n",
        "  print(i, response, \"\\n\")"
      ],
      "metadata": {
        "colab": {
          "base_uri": "https://localhost:8080/"
        },
        "id": "OCsswU8j0Fjg",
        "outputId": "08d7ddb2-2c5b-4b45-cfbb-c96a8d919a7d"
      },
      "execution_count": 31,
      "outputs": [
        {
          "output_type": "stream",
          "name": "stdout",
          "text": [
            "0 Dear customer, we apologize for the inconvenience you experienced with our home delivery service. We are working to improve our delivery process to ensure timely and accurate deliveries. Please contact us for a refund or a discount on your next order. \n",
            "\n",
            "1 Thank you for your feedback. We apologize for the disappointing experience with our chai. We will work on improving the quality and flavor options of our chai to meet your expectations. We hope you give us another chance to impress you. \n",
            "\n",
            "2 Dear customer, we apologize for your experience. We will work on improving our presentation, quality, and service. We will also consider offering organic coffee. We hope you give us another chance to exceed your expectations. \n",
            "\n"
          ]
        }
      ]
    }
  ],
  "metadata": {
    "kernelspec": {
      "display_name": "Python 3 (ipykernel)",
      "language": "python",
      "name": "python3"
    },
    "language_info": {
      "codemirror_mode": {
        "name": "ipython",
        "version": 3
      },
      "file_extension": ".py",
      "mimetype": "text/x-python",
      "name": "python",
      "nbconvert_exporter": "python",
      "pygments_lexer": "ipython3",
      "version": "3.11.8"
    },
    "colab": {
      "provenance": []
    }
  },
  "nbformat": 4,
  "nbformat_minor": 0
}